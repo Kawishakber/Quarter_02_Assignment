{
 "cells": [
  {
   "cell_type": "raw",
   "id": "4e9eecec",
   "metadata": {},
   "source": [
    "Create a program to like all videos on the PIAIC Official Channel (Facebook and Youtube)\n"
   ]
  },
  {
   "cell_type": "code",
   "execution_count": 2,
   "id": "126fe4e2",
   "metadata": {},
   "outputs": [],
   "source": [
    "import pyautogui\n",
    "import webbrowser"
   ]
  },
  {
   "cell_type": "code",
   "execution_count": 57,
   "id": "249e28ec",
   "metadata": {},
   "outputs": [],
   "source": [
    "webbrowser.open_new('https://www.youtube.com/@PIAIC')\n",
    "pyautogui.click(x=400,y=482,duration=4)\n",
    "pyautogui.click(x=379,y=405,duration=2)\n",
    "pyautogui.click(x=470,y=710,duration=2)\n",
    "webbrowser.open('https://www.facebook.com/piaic')\n",
    "pyautogui.click(x=800,y=355,duration=3)"
   ]
  },
  {
   "cell_type": "code",
   "execution_count": null,
   "id": "751e648c",
   "metadata": {},
   "outputs": [],
   "source": []
  },
  {
   "cell_type": "code",
   "execution_count": null,
   "id": "742d49f0",
   "metadata": {},
   "outputs": [],
   "source": []
  }
 ],
 "metadata": {
  "kernelspec": {
   "display_name": "Python 3 (ipykernel)",
   "language": "python",
   "name": "python3"
  },
  "language_info": {
   "codemirror_mode": {
    "name": "ipython",
    "version": 3
   },
   "file_extension": ".py",
   "mimetype": "text/x-python",
   "name": "python",
   "nbconvert_exporter": "python",
   "pygments_lexer": "ipython3",
   "version": "3.9.13"
  }
 },
 "nbformat": 4,
 "nbformat_minor": 5
}
