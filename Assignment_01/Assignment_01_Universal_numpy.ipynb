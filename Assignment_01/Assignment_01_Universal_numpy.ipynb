{
 "cells": [
  {
   "cell_type": "markdown",
   "id": "892dc015",
   "metadata": {},
   "source": [
    "\n",
    "# ##Universal Function\n",
    "\n",
    "ufanc---> stand for Universal function and they are actually numpy function that operates on the ndarray object\n",
    "ufanc also takes additional arguments like, where, dtype and out.\n",
    "Vectorization - Converting the iterative statement into a vector based statement."
   ]
  },
  {
   "cell_type": "code",
   "execution_count": 32,
   "id": "91e895ff",
   "metadata": {},
   "outputs": [],
   "source": [
    "# Example without universal Function "
   ]
  },
  {
   "cell_type": "code",
   "execution_count": 35,
   "id": "55dd191f",
   "metadata": {},
   "outputs": [],
   "source": [
    "x=[23,56,78,99]"
   ]
  },
  {
   "cell_type": "code",
   "execution_count": 36,
   "id": "7abac4ae",
   "metadata": {},
   "outputs": [],
   "source": [
    "y=[45,78,334,0]"
   ]
  },
  {
   "cell_type": "code",
   "execution_count": 37,
   "id": "6f816102",
   "metadata": {},
   "outputs": [
    {
     "name": "stdout",
     "output_type": "stream",
     "text": [
      "[68, 134, 412, 99]\n"
     ]
    }
   ],
   "source": [
    "z=[]\n",
    "for i,j in zip(x,y):\n",
    "    z.append(i+j)\n",
    "print(z)"
   ]
  },
  {
   "cell_type": "code",
   "execution_count": 17,
   "id": "18d674fe",
   "metadata": {},
   "outputs": [],
   "source": [
    "\n",
    "import numpy as np"
   ]
  },
  {
   "cell_type": "code",
   "execution_count": 28,
   "id": "9ef0e8ac",
   "metadata": {},
   "outputs": [
    {
     "data": {
      "text/plain": [
       "array([ 4, 67, 99, 67])"
      ]
     },
     "execution_count": 28,
     "metadata": {},
     "output_type": "execute_result"
    }
   ],
   "source": [
    "arr1=np.array([4,67,99,67])\n",
    "type(arr1)\n",
    "arr1\n"
   ]
  },
  {
   "cell_type": "code",
   "execution_count": 29,
   "id": "e404faea",
   "metadata": {},
   "outputs": [
    {
     "data": {
      "text/plain": [
       "array([68, 99,  1,  0])"
      ]
     },
     "execution_count": 29,
     "metadata": {},
     "output_type": "execute_result"
    }
   ],
   "source": [
    "arr2=np.array([68,99,1,0])\n",
    "type(arr2)\n",
    "arr2"
   ]
  },
  {
   "cell_type": "code",
   "execution_count": 30,
   "id": "e423ff01",
   "metadata": {},
   "outputs": [
    {
     "data": {
      "text/plain": [
       "array([ 72, 166, 100,  67])"
      ]
     },
     "execution_count": 30,
     "metadata": {},
     "output_type": "execute_result"
    }
   ],
   "source": [
    "np.add(arr1,arr2)"
   ]
  },
  {
   "cell_type": "code",
   "execution_count": 38,
   "id": "3c2d5353",
   "metadata": {},
   "outputs": [
    {
     "data": {
      "text/plain": [
       "array([-64, -32,  98,  67])"
      ]
     },
     "execution_count": 38,
     "metadata": {},
     "output_type": "execute_result"
    }
   ],
   "source": [
    "np.subtract(arr1,arr2)"
   ]
  },
  {
   "cell_type": "code",
   "execution_count": 40,
   "id": "ba2b7874",
   "metadata": {},
   "outputs": [
    {
     "name": "stderr",
     "output_type": "stream",
     "text": [
      "C:\\Users\\iamka\\AppData\\Local\\Temp\\ipykernel_8820\\3612482896.py:1: RuntimeWarning: divide by zero encountered in true_divide\n",
      "  np.divide(arr1,arr2)\n"
     ]
    },
    {
     "data": {
      "text/plain": [
       "array([5.88235294e-02, 6.76767677e-01, 9.90000000e+01,            inf])"
      ]
     },
     "execution_count": 40,
     "metadata": {},
     "output_type": "execute_result"
    }
   ],
   "source": [
    " np.divide(arr1,arr2)"
   ]
  },
  {
   "cell_type": "code",
   "execution_count": 47,
   "id": "236b99ad",
   "metadata": {},
   "outputs": [
    {
     "data": {
      "text/plain": [
       "array([[ 23,  45, -78],\n",
       "       [ 34, -67,  99]])"
      ]
     },
     "execution_count": 47,
     "metadata": {},
     "output_type": "execute_result"
    }
   ],
   "source": [
    "\n",
    "c=np.array([[23,45,-78],[34,-67,99]])\n",
    "c"
   ]
  },
  {
   "cell_type": "code",
   "execution_count": 49,
   "id": "40d8a049",
   "metadata": {},
   "outputs": [],
   "source": [
    "np.abs(c)"
   ]
  },
  {
   "cell_type": "code",
   "execution_count": 48,
   "id": "e83513be",
   "metadata": {},
   "outputs": [
    {
     "data": {
      "text/plain": [
       "array([[23, 45, 78],\n",
       "       [34, 67, 99]])"
      ]
     },
     "execution_count": 48,
     "metadata": {},
     "output_type": "execute_result"
    }
   ],
   "source": [
    "np.absolute(c)"
   ]
  },
  {
   "cell_type": "code",
   "execution_count": 51,
   "id": "cccb7414",
   "metadata": {},
   "outputs": [
    {
     "data": {
      "text/plain": [
       "array([[9.74480345e+09, 3.49342711e+19, 1.33361482e-34],\n",
       "       [5.83461743e+14, 7.98490425e-30, 9.88903032e+42]])"
      ]
     },
     "execution_count": 51,
     "metadata": {},
     "output_type": "execute_result"
    }
   ],
   "source": [
    "np.exp(c)"
   ]
  },
  {
   "cell_type": "code",
   "execution_count": 52,
   "id": "54f413f6",
   "metadata": {},
   "outputs": [
    {
     "data": {
      "text/plain": [
       "array([[-0.8462204 ,  0.85090352, -0.51397846],\n",
       "       [ 0.52908269,  0.85551998, -0.99920683]])"
      ]
     },
     "execution_count": 52,
     "metadata": {},
     "output_type": "execute_result"
    }
   ],
   "source": [
    "np.sin(c)"
   ]
  },
  {
   "cell_type": "code",
   "execution_count": 53,
   "id": "c5e8bb64",
   "metadata": {},
   "outputs": [
    {
     "data": {
      "text/plain": [
       "array([[-0.53283302,  0.52532199, -0.85780309],\n",
       "       [-0.84857027, -0.5177698 ,  0.03982088]])"
      ]
     },
     "execution_count": 53,
     "metadata": {},
     "output_type": "execute_result"
    }
   ],
   "source": [
    "np.cos(c)"
   ]
  },
  {
   "cell_type": "code",
   "execution_count": 54,
   "id": "e0f5a4a6",
   "metadata": {},
   "outputs": [
    {
     "data": {
      "text/plain": [
       "array([1.38629436, 4.20469262, 4.59511985, 4.20469262])"
      ]
     },
     "execution_count": 54,
     "metadata": {},
     "output_type": "execute_result"
    }
   ],
   "source": [
    "np.log(arr1)"
   ]
  },
  {
   "cell_type": "code",
   "execution_count": 61,
   "id": "9168b2cb",
   "metadata": {},
   "outputs": [
    {
     "data": {
      "text/plain": [
       "array([    64, 300763, 970299, 300763], dtype=int32)"
      ]
     },
     "execution_count": 61,
     "metadata": {},
     "output_type": "execute_result"
    }
   ],
   "source": [
    "np.power(arr1,3)"
   ]
  },
  {
   "cell_type": "code",
   "execution_count": 59,
   "id": "ac8bf8f0",
   "metadata": {},
   "outputs": [
    {
     "data": {
      "text/plain": [
       "array([  16, 4489, 9801, 4489], dtype=int32)"
      ]
     },
     "execution_count": 59,
     "metadata": {},
     "output_type": "execute_result"
    }
   ],
   "source": [
    "np.square(arr1)"
   ]
  },
  {
   "cell_type": "code",
   "execution_count": 62,
   "id": "ceef0e3c",
   "metadata": {},
   "outputs": [
    {
     "data": {
      "text/plain": [
       "array([8.24621125, 9.94987437, 1.        , 0.        ])"
      ]
     },
     "execution_count": 62,
     "metadata": {},
     "output_type": "execute_result"
    }
   ],
   "source": [
    "np.sqrt(arr2)"
   ]
  },
  {
   "cell_type": "code",
   "execution_count": 63,
   "id": "9ac9032f",
   "metadata": {},
   "outputs": [
    {
     "data": {
      "text/plain": [
       "array([[  1.58815308,   1.61977519,   0.59918   ],\n",
       "       [ -0.62349896,  -1.65231726, -25.09253498]])"
      ]
     },
     "execution_count": 63,
     "metadata": {},
     "output_type": "execute_result"
    }
   ],
   "source": [
    "np.tan(c)"
   ]
  },
  {
   "cell_type": "code",
   "execution_count": 65,
   "id": "490b4c4b",
   "metadata": {},
   "outputs": [
    {
     "name": "stderr",
     "output_type": "stream",
     "text": [
      "C:\\Users\\iamka\\AppData\\Local\\Temp\\ipykernel_8820\\893717680.py:1: RuntimeWarning: invalid value encountered in arcsin\n",
      "  np.arcsin(arr1)\n"
     ]
    },
    {
     "data": {
      "text/plain": [
       "array([nan, nan, nan, nan])"
      ]
     },
     "execution_count": 65,
     "metadata": {},
     "output_type": "execute_result"
    }
   ],
   "source": [
    "np.arcsin(arr1)"
   ]
  },
  {
   "cell_type": "code",
   "execution_count": 68,
   "id": "22d66fc7",
   "metadata": {},
   "outputs": [
    {
     "name": "stderr",
     "output_type": "stream",
     "text": [
      "C:\\Users\\iamka\\AppData\\Local\\Temp\\ipykernel_8820\\3919857117.py:1: RuntimeWarning: invalid value encountered in arccos\n",
      "  np.arccos(c)\n"
     ]
    },
    {
     "data": {
      "text/plain": [
       "array([[nan, nan, nan],\n",
       "       [nan, nan, nan]])"
      ]
     },
     "execution_count": 68,
     "metadata": {},
     "output_type": "execute_result"
    }
   ],
   "source": [
    "np.arccos(c)"
   ]
  },
  {
   "cell_type": "code",
   "execution_count": 69,
   "id": "fe739ba4",
   "metadata": {},
   "outputs": [
    {
     "data": {
      "text/plain": [
       "array([[ 1.52734543,  1.54857776, -1.55797652],\n",
       "       [ 1.54139304, -1.55587206,  1.56069566]])"
      ]
     },
     "execution_count": 69,
     "metadata": {},
     "output_type": "execute_result"
    }
   ],
   "source": [
    "np.arctan(c)"
   ]
  },
  {
   "cell_type": "code",
   "execution_count": 70,
   "id": "a2788513",
   "metadata": {},
   "outputs": [
    {
     "data": {
      "text/plain": [
       "array([[ 4],\n",
       "       [67],\n",
       "       [99],\n",
       "       [67]])"
      ]
     },
     "execution_count": 70,
     "metadata": {},
     "output_type": "execute_result"
    }
   ],
   "source": [
    "np.vstack(arr1)"
   ]
  },
  {
   "cell_type": "code",
   "execution_count": 71,
   "id": "d661b53b",
   "metadata": {},
   "outputs": [
    {
     "data": {
      "text/plain": [
       "array([[[68, 99,  1,  0]]])"
      ]
     },
     "execution_count": 71,
     "metadata": {},
     "output_type": "execute_result"
    }
   ],
   "source": [
    "np.dstack(arr2)"
   ]
  },
  {
   "cell_type": "code",
   "execution_count": null,
   "id": "1b09df9b",
   "metadata": {},
   "outputs": [],
   "source": []
  },
  {
   "cell_type": "code",
   "execution_count": null,
   "id": "c0b4ae30",
   "metadata": {},
   "outputs": [],
   "source": []
  },
  {
   "cell_type": "code",
   "execution_count": null,
   "id": "4857c074",
   "metadata": {},
   "outputs": [],
   "source": []
  },
  {
   "cell_type": "code",
   "execution_count": null,
   "id": "083cc90b",
   "metadata": {},
   "outputs": [],
   "source": []
  },
  {
   "cell_type": "code",
   "execution_count": null,
   "id": "07a0cec8",
   "metadata": {},
   "outputs": [],
   "source": []
  },
  {
   "cell_type": "code",
   "execution_count": null,
   "id": "5af6474b",
   "metadata": {},
   "outputs": [],
   "source": []
  },
  {
   "cell_type": "code",
   "execution_count": 4,
   "id": "f9a4dcd0",
   "metadata": {},
   "outputs": [
    {
     "data": {
      "text/plain": [
       "array([[[ 0,  1,  2],\n",
       "        [ 3,  4,  5],\n",
       "        [ 6,  7,  8]],\n",
       "\n",
       "       [[ 9, 10, 11],\n",
       "        [12, 13, 14],\n",
       "        [15, 16, 17]],\n",
       "\n",
       "       [[18, 19, 20],\n",
       "        [21, 22, 23],\n",
       "        [24, 25, 26]]])"
      ]
     },
     "execution_count": 4,
     "metadata": {},
     "output_type": "execute_result"
    }
   ],
   "source": [
    "a=np.arange(27).reshape(3,3,3)\n",
    "a"
   ]
  },
  {
   "cell_type": "code",
   "execution_count": 11,
   "id": "44291a48",
   "metadata": {},
   "outputs": [
    {
     "data": {
      "text/plain": [
       "array([[[ 4,  8,  9],\n",
       "        [ 1,  2,  3],\n",
       "        [ 4, 57,  7]],\n",
       "\n",
       "       [[78, 67,  0],\n",
       "        [67,  8,  1],\n",
       "        [ 7,  8,  9]],\n",
       "\n",
       "       [[ 6, 55, 88],\n",
       "        [ 1,  5,  7],\n",
       "        [ 5, 77,  8]]])"
      ]
     },
     "execution_count": 11,
     "metadata": {},
     "output_type": "execute_result"
    }
   ],
   "source": [
    "b=np.array([[[4,8,9],[1,2,3],[4,57,7]],[[78,67,0],[67,8,1],[7,8,9]],[[6,55,88],[1,5,7],[5,77,8]]])\n",
    "b"
   ]
  },
  {
   "cell_type": "code",
   "execution_count": 12,
   "id": "6226e361",
   "metadata": {},
   "outputs": [
    {
     "data": {
      "text/plain": [
       "array([[[  4,   9,  11],\n",
       "        [  4,   6,   8],\n",
       "        [ 10,  64,  15]],\n",
       "\n",
       "       [[ 87,  77,  11],\n",
       "        [ 79,  21,  15],\n",
       "        [ 22,  24,  26]],\n",
       "\n",
       "       [[ 24,  74, 108],\n",
       "        [ 22,  27,  30],\n",
       "        [ 29, 102,  34]]])"
      ]
     },
     "execution_count": 12,
     "metadata": {},
     "output_type": "execute_result"
    }
   ],
   "source": [
    "np.add(a,b)"
   ]
  },
  {
   "cell_type": "code",
   "execution_count": 15,
   "id": "c4abcfcd",
   "metadata": {},
   "outputs": [
    {
     "data": {
      "text/plain": [
       "numpy.ufunc"
      ]
     },
     "execution_count": 15,
     "metadata": {},
     "output_type": "execute_result"
    }
   ],
   "source": [
    "np.subtract(a,b)\n",
    "type(np.subtract)"
   ]
  },
  {
   "cell_type": "code",
   "execution_count": null,
   "id": "06ab7f74",
   "metadata": {},
   "outputs": [],
   "source": [
    "np.ufunc()"
   ]
  }
 ],
 "metadata": {
  "kernelspec": {
   "display_name": "Python 3 (ipykernel)",
   "language": "python",
   "name": "python3"
  },
  "language_info": {
   "codemirror_mode": {
    "name": "ipython",
    "version": 3
   },
   "file_extension": ".py",
   "mimetype": "text/x-python",
   "name": "python",
   "nbconvert_exporter": "python",
   "pygments_lexer": "ipython3",
   "version": "3.9.13"
  }
 },
 "nbformat": 4,
 "nbformat_minor": 5
}
